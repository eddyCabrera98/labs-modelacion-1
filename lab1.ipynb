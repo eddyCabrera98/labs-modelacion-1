{
 "cells": [
  {
   "cell_type": "code",
   "execution_count": 12,
   "id": "36f5eac1",
   "metadata": {},
   "outputs": [],
   "source": [
    "import random\n",
    "from itertools import product\n",
    "from collections import Counter"
   ]
  },
  {
   "cell_type": "code",
   "execution_count": 13,
   "id": "0843bbed",
   "metadata": {},
   "outputs": [],
   "source": [
    "numeros = [\"A\", '2', '3', '4', '5', '6', '7', '8', '9', '10', 'J', 'Q', 'K']\n",
    "manjares = [\"Diamantes\", \"Corazones\", \"Treboles\", \"Pikas\"]\n",
    "baraja=list(product(numeros, manjares))"
   ]
  },
  {
   "cell_type": "code",
   "execution_count": 14,
   "id": "5a452fea",
   "metadata": {},
   "outputs": [
    {
     "data": {
      "text/plain": [
       "52"
      ]
     },
     "execution_count": 14,
     "metadata": {},
     "output_type": "execute_result"
    }
   ],
   "source": [
    "len(baraja)"
   ]
  },
  {
   "cell_type": "code",
   "execution_count": 60,
   "id": "71225de2",
   "metadata": {},
   "outputs": [],
   "source": [
    "def is_consecutive_poker_cards(lst):\n",
    "    if len(lst) < 2:\n",
    "        return True\n",
    "    \n",
    "    # Convert face cards to numbers if needed\n",
    "    card_values = {\n",
    "        'A': 1,\n",
    "        'J': 11,\n",
    "        'Q': 12,\n",
    "        'K': 13\n",
    "    }\n",
    "    \n",
    "    lst_converted = [int(card_values.get(card, card))  for card in lst]\n",
    "    \n",
    "    # Check for Ace being high (14) if needed\n",
    "    if 1 in lst_converted:\n",
    "        lst_converted.append(14)\n",
    "    \n",
    "    lst_sorted = sorted(lst_converted)\n",
    "    \n",
    "    for i in range(1, len(lst_sorted)):\n",
    "        if lst_sorted[i] == 10 and lst_sorted[i - 1] == 1:\n",
    "            continue\n",
    "        if lst_sorted[i] == 14  and lst_sorted[i - 1] == 5:\n",
    "            continue\n",
    "        if lst_sorted[i] - lst_sorted[i - 1] != 1:\n",
    "            return False, lst_sorted\n",
    "            \n",
    "    return True, lst_sorted\n",
    "\n",
    "def has_five_consecutive_equal_elements(lst):\n",
    "    if len(lst) < 5:\n",
    "        return False\n",
    "    \n",
    "    count = 1\n",
    "    for i in range(1, len(lst)):\n",
    "        if lst[i] == lst[i - 1]:\n",
    "            count += 1\n",
    "            if count == 5:\n",
    "                return True\n",
    "        else:\n",
    "            count = 1\n",
    "    \n",
    "    return False\n"
   ]
  },
  {
   "cell_type": "code",
   "execution_count": 85,
   "id": "0f4fdfbc",
   "metadata": {},
   "outputs": [],
   "source": [
    "# Simulacion para conocer la probablidad de un par en poker\n",
    "# https://es.wikipedia.org/wiki/Probabilidad_en_el_p%C3%B3quer\n",
    "n = 5000000\n",
    "full_house = 0\n",
    "escalera = 0\n",
    "dos_pares = 0\n",
    "escalera_de_color = 0\n",
    "escalera_real = 0\n",
    "for i in range(n):\n",
    "    mano = random.sample(baraja,5)\n",
    "    nums = []\n",
    "    tipos = []\n",
    "    for carta in mano:\n",
    "        num = carta[0]\n",
    "        tipo = carta[1]\n",
    "        nums.append(num)\n",
    "        tipos.append(tipo)\n",
    "    contador = Counter(nums)\n",
    "    values = contador.values()\n",
    "    values_list = list(values)\n",
    "    if(len(contador) == 3):\n",
    "        if values_list.count(2) == 2 and values_list.count(1) == 1:\n",
    "            dos_pares = dos_pares + 1\n",
    "        continue\n",
    "    elif(len(contador) == 2):\n",
    "        if 3 in values and 2 in values:\n",
    "            full_house = full_house +1\n",
    "        continue\n",
    "    (consecutive_cards, ordered_list) = is_consecutive_poker_cards(nums)\n",
    "    mismo_tipo =  has_five_consecutive_equal_elements(tipos)\n",
    "    if consecutive_cards and mismo_tipo and ordered_list[1] == 10:\n",
    "        escalera_real  = escalera_real + 1\n",
    "    elif consecutive_cards and mismo_tipo:\n",
    "        escalera_de_color = escalera_de_color + 1\n",
    "    elif consecutive_cards:\n",
    "        escalera = escalera + 1"
   ]
  },
  {
   "cell_type": "code",
   "execution_count": 86,
   "id": "ac77066c",
   "metadata": {},
   "outputs": [
    {
     "name": "stdout",
     "output_type": "stream",
     "text": [
      "Dos Pares 4.75896 %\n",
      "Full House 0.1449 %\n",
      "Escalera 0.39684 %\n",
      "Escalera de color 0.00124 %\n"
     ]
    }
   ],
   "source": [
    "print(\"Dos Pares\", dos_pares/n*100, \"%\")\n",
    "print(\"Full House\", full_house/n*100, \"%\")\n",
    "print(\"Escalera\", escalera/n*100, \"%\")\n",
    "print(\"Escalera de color\", escalera_de_color/n*100, \"%\")"
   ]
  },
  {
   "cell_type": "code",
   "execution_count": 88,
   "id": "e1ae1eb5",
   "metadata": {},
   "outputs": [
    {
     "name": "stdout",
     "output_type": "stream",
     "text": [
      "Diferencias con probabilidades por combinaciones\n",
      "Dos Pares 0.0050600000000002865 %\n",
      "Full House 0.0007999999999999952 %\n",
      "Escalera 0.0043400000000000105 %\n",
      "Escalera de color 0.001101 %\n"
     ]
    }
   ],
   "source": [
    "print(\"Diferencias con probabilidades por combinaciones\")\n",
    "print(\"Dos Pares\", abs(dos_pares/n*100-4.7539), \"%\")\n",
    "print(\"Full House\", abs(full_house/n*100-0.1441), \"%\")\n",
    "print(\"Escalera\", abs(escalera/n*100-0.3925), \"%\")\n",
    "print(\"Escalera de color\", abs(escalera_de_color/n*100-0.000139), \"%\")"
   ]
  }
 ],
 "metadata": {
  "kernelspec": {
   "display_name": "Python 3 (ipykernel)",
   "language": "python",
   "name": "python3"
  },
  "language_info": {
   "codemirror_mode": {
    "name": "ipython",
    "version": 3
   },
   "file_extension": ".py",
   "mimetype": "text/x-python",
   "name": "python",
   "nbconvert_exporter": "python",
   "pygments_lexer": "ipython3",
   "version": "3.10.9"
  }
 },
 "nbformat": 4,
 "nbformat_minor": 5
}
