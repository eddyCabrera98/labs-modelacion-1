{
 "cells": [
  {
   "cell_type": "code",
   "execution_count": null,
   "id": "81749ba3",
   "metadata": {},
   "outputs": [],
   "source": [
    "import numpy as np"
   ]
  },
  {
   "cell_type": "code",
   "execution_count": 108,
   "id": "969b4254",
   "metadata": {},
   "outputs": [],
   "source": [
    "sim_n = 100000\n",
    "def check_if_same_birthday(N, n, print_arrays=False):\n",
    "    birthdays = np.random.randint(1, 365, N)\n",
    "    unique_birthdays, counts = np.unique(birthdays, return_counts=True)\n",
    "    if print_arrays:\n",
    "        print(birthdays)\n",
    "        print(unique_birthdays)\n",
    "        print(counts)\n",
    "    return np.any(counts >= n)\n",
    "\n",
    "def birthday_paradox(N, n):\n",
    "    found_match = 0\n",
    "    for i in range(sim_n):\n",
    "        if check_if_same_birthday(N, n):\n",
    "            found_match = found_match + 1\n",
    "    return found_match/sim_n\n",
    "    \n",
    "    "
   ]
  },
  {
   "cell_type": "markdown",
   "id": "d73225ac",
   "metadata": {},
   "source": [
    "# Escenarios"
   ]
  },
  {
   "cell_type": "code",
   "execution_count": 112,
   "id": "12531289",
   "metadata": {},
   "outputs": [
    {
     "name": "stdout",
     "output_type": "stream",
     "text": [
      "Con 100000 simulaciones para cada escenario\n",
      "Para N = 20 y n = 2. Probabilidad 41.3440%\n",
      "Para N = 200 y n = 2. Probabilidad 100.0000%\n",
      "Para N = 100 y n = 3. Probabilidad 64.9740%\n",
      "Para N = 1000 y n = 10. Probabilidad 18.3260%\n"
     ]
    }
   ],
   "source": [
    "print(f\"Con {sim_n} simulaciones para cada escenario\")\n",
    "N=20\n",
    "n=2\n",
    "result = birthday_paradox(N, n)\n",
    "print(f\"Para N = {N} y n = {n}. Probabilidad {result*100:.4f}%\")\n",
    "N=200\n",
    "n=2\n",
    "result = birthday_paradox(N, n)\n",
    "print(f\"Para N = {N} y n = {n}. Probabilidad {result*100:.4f}%\")\n",
    "N=100\n",
    "n=3\n",
    "result = birthday_paradox(N, n)\n",
    "print(f\"Para N = {N} y n = {n}. Probabilidad {result*100:.4f}%\")\n",
    "N=1000\n",
    "n=10\n",
    "result = birthday_paradox(N, n)\n",
    "print(f\"Para N = {N} y n = {n}. Probabilidad {result*100:.4f}%\")"
   ]
  }
 ],
 "metadata": {
  "kernelspec": {
   "display_name": "Python 3 (ipykernel)",
   "language": "python",
   "name": "python3"
  },
  "language_info": {
   "codemirror_mode": {
    "name": "ipython",
    "version": 3
   },
   "file_extension": ".py",
   "mimetype": "text/x-python",
   "name": "python",
   "nbconvert_exporter": "python",
   "pygments_lexer": "ipython3",
   "version": "3.10.9"
  }
 },
 "nbformat": 4,
 "nbformat_minor": 5
}
